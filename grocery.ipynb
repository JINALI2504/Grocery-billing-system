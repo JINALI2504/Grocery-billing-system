import csv
import os

# Function to read the grocery store CSV file and display menu
def read_grocery_menu(filename):
    grocery_menu = {}
    with open(filename, mode='r') as file:
        csv_reader = csv.DictReader(file)
        for row in csv_reader:
            item = row['Item Name']  # Adjusted column name
            price = float(row['Price'])
            gst = float(row['GST'])
            grocery_menu[item] = {'price': price, 'gst': gst}
    return grocery_menu

# Function to generate invoice and write to a file
def generate_invoice(customer_details, items_bought, grocery_menu):
    total_amount = 0
    invoice_text = f"Customer Name: {customer_details['name']}\n"
    invoice_text += f"Phone Number: {customer_details['phone']}\n"
    invoice_text += f"Email: {customer_details['email']}\n"
    invoice_text += "----------------------------------------\n"
    invoice_text += "Item\t\tPrice\tGST\tFinal Price\n"
    
    for item, quantity in items_bought.items():
        price = grocery_menu[item]['price']
        gst = grocery_menu[item]['gst']
        gst_amount = (gst / 100) * price
        final_price = (price + gst_amount) * quantity
        total_amount += final_price
        invoice_text += f"{item}\t\t{price:.2f}\t{gst}%\t{final_price:.2f}\n"
    
    invoice_text += "----------------------------------------\n"
    invoice_text += f"Total Amount: {total_amount:.2f}\n"

    # Save invoice as file
    filename = f"{customer_details['name']}_invoice.txt"
    with open(filename, 'w') as file:
        file.write(invoice_text)

    print(f"Invoice saved as {filename}")

# Function to collect customer details and items
def collect_customer_info(grocery_menu):
    customer_details = {}
    customer_details['name'] = input("Enter your name: ")
    customer_details['phone'] = input("Enter your phone number: ")
    customer_details['email'] = input("Enter your email: ")

    items_bought = {}
    print("\nAvailable items and prices:")
    for item, details in grocery_menu.items():
        print(f"{item}: Price = {details['price']} | GST = {details['gst']}%")

    while True:
        item = input("\nEnter the item you want to buy (or 'done' to finish): ")
        if item.lower() == 'done':
            break
        if item in grocery_menu:
            quantity = int(input(f"Enter quantity for {item}: "))
            items_bought[item] = quantity
        else:
            print("Item not found. Please try again.")

    return customer_details, items_bought

# Main function
def main():
    # Ensure the CSV file exists
    csv_filename = 'grocery_store.csv'
    
    if not os.path.exists(csv_filename):
        print(f"The file {csv_filename} does not exist.")
        return
    
    grocery_menu = read_grocery_menu(csv_filename)
    customer_details, items_bought = collect_customer_info(grocery_menu)
    generate_invoice(customer_details, items_bought, grocery_menu)


if __name__ == "__main__":
    main()
